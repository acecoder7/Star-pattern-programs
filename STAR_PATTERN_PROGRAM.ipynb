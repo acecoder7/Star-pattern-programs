{
  "nbformat": 4,
  "nbformat_minor": 0,
  "metadata": {
    "colab": {
      "name": "STAR PATTERN PROGRAM.ipynb",
      "provenance": [],
      "authorship_tag": "ABX9TyPnuK3ruurYGaoD21lryCP5",
      "include_colab_link": true
    },
    "kernelspec": {
      "name": "python3",
      "display_name": "Python 3"
    },
    "language_info": {
      "name": "python"
    }
  },
  "cells": [
    {
      "cell_type": "markdown",
      "metadata": {
        "id": "view-in-github",
        "colab_type": "text"
      },
      "source": [
        "<a href=\"https://colab.research.google.com/github/acecoder7/Star-pattern-programs/blob/master/STAR_PATTERN_PROGRAM.ipynb\" target=\"_parent\"><img src=\"https://colab.research.google.com/assets/colab-badge.svg\" alt=\"Open In Colab\"/></a>"
      ]
    },
    {
      "cell_type": "code",
      "execution_count": null,
      "metadata": {
        "colab": {
          "base_uri": "https://localhost:8080/"
        },
        "id": "QDqJr40FxT4D",
        "outputId": "6ee2b16d-60cf-4e92-ee6f-6fe9f76f45b0"
      },
      "outputs": [
        {
          "output_type": "stream",
          "name": "stdout",
          "text": [
            "    * \n",
            "   * * \n",
            "  * * * \n",
            " * * * * \n",
            "* * * * * \n"
          ]
        }
      ],
      "source": [
        "for i in range(1,6):\n",
        "  for j in range(5,0,-1):\n",
        "    if j>i:\n",
        "      print('',end=' ')\n",
        "    else:\n",
        "      print(\"*\", end=' ')\n",
        "  print()"
      ]
    },
    {
      "cell_type": "code",
      "source": [
        "for i in range(1,6):\n",
        "  for j in range(5,0,-1):\n",
        "    if j>i:\n",
        "      print(' ',end=' ')\n",
        "    else:\n",
        "      print('*',end=' ')\n",
        "  print()"
      ],
      "metadata": {
        "colab": {
          "base_uri": "https://localhost:8080/"
        },
        "id": "XoGMD4qPm4NN",
        "outputId": "576ebcf2-4858-4a70-ec78-f1d2b4ae7216"
      },
      "execution_count": null,
      "outputs": [
        {
          "output_type": "stream",
          "name": "stdout",
          "text": [
            "        * \n",
            "      * * \n",
            "    * * * \n",
            "  * * * * \n",
            "* * * * * \n"
          ]
        }
      ]
    },
    {
      "cell_type": "markdown",
      "source": [
        ""
      ],
      "metadata": {
        "id": "oN19D994m3MK"
      }
    },
    {
      "cell_type": "code",
      "source": [
        "for i in range(1,6):\n",
        "  for j in range(1,i):\n",
        "    print(' ',end=' ')\n",
        "  for k in range(0,6-i):\n",
        "    print('*',end=' ')\n",
        "  print()"
      ],
      "metadata": {
        "colab": {
          "base_uri": "https://localhost:8080/"
        },
        "id": "_DqBfwQmWCRg",
        "outputId": "da156363-cdfa-49f1-f3b3-b0691bed9756"
      },
      "execution_count": null,
      "outputs": [
        {
          "output_type": "stream",
          "name": "stdout",
          "text": [
            "* * * * * \n",
            "  * * * * \n",
            "    * * * \n",
            "      * * \n",
            "        * \n"
          ]
        }
      ]
    },
    {
      "cell_type": "markdown",
      "source": [
        ""
      ],
      "metadata": {
        "id": "2pPTShMJWCBb"
      }
    },
    {
      "cell_type": "code",
      "source": [
        "for i in range(1,10):\n",
        "  if i<6:\n",
        "    for j in range(1,6-i):\n",
        "      print(' ',end=' ')\n",
        "    for k in range(1,i+1):\n",
        "      print('*', end=' ')\n",
        "    for l in range(1,i):\n",
        "        print('*', end=' ')\n",
        "    for m in range(2,6-i):\n",
        "      print(' ',end=' ')\n",
        "    print()\n"
      ],
      "metadata": {
        "colab": {
          "base_uri": "https://localhost:8080/"
        },
        "id": "83VRE7r9xa0o",
        "outputId": "f6a7546e-6e62-46fc-9f6a-b89e133e0568"
      },
      "execution_count": null,
      "outputs": [
        {
          "output_type": "stream",
          "name": "stdout",
          "text": [
            "        *       \n",
            "      * * *     \n",
            "    * * * * *   \n",
            "  * * * * * * * \n",
            "* * * * * * * * * \n"
          ]
        }
      ]
    },
    {
      "cell_type": "code",
      "source": [
        "for i in range(1,10):\n",
        "  if i<6:\n",
        "    for j in range(1,6-i):\n",
        "      print(' ',end=' ')\n",
        "    for k in range(1,i+1):\n",
        "      print('*', end=' ')\n",
        "    for l in range(1,i):\n",
        "      print('*', end=' ')\n",
        "    for m in range(1,6-i):\n",
        "      print(' ',end=' ')\n",
        "    print()\n",
        "  else:\n",
        "    for a in range(6-i,1):\n",
        "      print(' ',end=' ')\n",
        "    for b in range(0,10-i):\n",
        "      print('*',end=' ')\n",
        "    for c in range(1,10-i):\n",
        "      print('*',end=' ')\n",
        "    for d in range(6-i,1):\n",
        "      print(' ', end=' ')\n",
        "    print()\n"
      ],
      "metadata": {
        "colab": {
          "base_uri": "https://localhost:8080/"
        },
        "id": "oXDjH4UIZH6n",
        "outputId": "56e9ca12-35af-431a-a0e0-1e4296fe32bf"
      },
      "execution_count": null,
      "outputs": [
        {
          "output_type": "stream",
          "name": "stdout",
          "text": [
            "        *         \n",
            "      * * *       \n",
            "    * * * * *     \n",
            "  * * * * * * *   \n",
            "* * * * * * * * * \n",
            "  * * * * * * *   \n",
            "    * * * * *     \n",
            "      * * *       \n",
            "        *         \n"
          ]
        }
      ]
    },
    {
      "cell_type": "markdown",
      "source": [
        ""
      ],
      "metadata": {
        "id": "DdDF66wGZHsz"
      }
    },
    {
      "cell_type": "code",
      "source": [
        "for i in range(1,8,2):\n",
        "  for j in range(7,0,-1):\n",
        "    if i>=j :\n",
        "      print('*',end=' ')\n",
        "    else:\n",
        "      print('',end=' ')\n",
        "  print()\n",
        "for i in range(2,10,2):\n",
        "  for j in range(1,8,1):\n",
        "    if i<j :\n",
        "      print('*',end=' ')\n",
        "    else:\n",
        "      print('',end=' ')\n",
        "  print()"
      ],
      "metadata": {
        "colab": {
          "base_uri": "https://localhost:8080/"
        },
        "id": "HeRabwJahcXA",
        "outputId": "04109c7d-825d-44fd-8eb1-80dfe7ad91ee"
      },
      "execution_count": null,
      "outputs": [
        {
          "output_type": "stream",
          "name": "stdout",
          "text": [
            "      * \n",
            "    * * * \n",
            "  * * * * * \n",
            "* * * * * * * \n",
            "  * * * * * \n",
            "    * * * \n",
            "      * \n",
            "       \n"
          ]
        }
      ]
    },
    {
      "cell_type": "code",
      "source": [
        " for i in range(1,6):\n",
        "  for j in range(1,i+1):\n",
        "    print(j,end=' ')\n",
        "  print()"
      ],
      "metadata": {
        "colab": {
          "base_uri": "https://localhost:8080/"
        },
        "id": "yaatl4Y89HSP",
        "outputId": "5b40fd68-84e6-49c5-f387-d0c5f6bb1f23"
      },
      "execution_count": null,
      "outputs": [
        {
          "output_type": "stream",
          "name": "stdout",
          "text": [
            "1 \n",
            "1 2 \n",
            "1 2 3 \n",
            "1 2 3 4 \n",
            "1 2 3 4 5 \n"
          ]
        }
      ]
    },
    {
      "cell_type": "code",
      "source": [
        "for i in range(5,0,-1):\n",
        "  for j in range(i,6):\n",
        "    print(j,end=' ')\n",
        "  print()"
      ],
      "metadata": {
        "colab": {
          "base_uri": "https://localhost:8080/"
        },
        "id": "Isb8xhOO-GN2",
        "outputId": "bf7c1570-38fc-401e-822f-8169723dfa50"
      },
      "execution_count": null,
      "outputs": [
        {
          "output_type": "stream",
          "name": "stdout",
          "text": [
            "5 \n",
            "4 5 \n",
            "3 4 5 \n",
            "2 3 4 5 \n",
            "1 2 3 4 5 \n"
          ]
        }
      ]
    },
    {
      "cell_type": "code",
      "source": [
        "for i in range(1,6):\n",
        "  for j in range(5,5-i,-1):\n",
        "    print(j,end=' ')\n",
        "  print()\n"
      ],
      "metadata": {
        "colab": {
          "base_uri": "https://localhost:8080/"
        },
        "id": "cJavLKWZ9XZJ",
        "outputId": "cd56bc47-c228-4fb3-ea5d-641c8fa689af"
      },
      "execution_count": null,
      "outputs": [
        {
          "output_type": "stream",
          "name": "stdout",
          "text": [
            "5 \n",
            "5 4 \n",
            "5 4 3 \n",
            "5 4 3 2 \n",
            "5 4 3 2 1 \n"
          ]
        }
      ]
    },
    {
      "cell_type": "code",
      "source": [
        "for i in range(1,6):\n",
        "  for j in range(5,5-i,-1):\n",
        "    print(i,end=' ')\n",
        "  print()"
      ],
      "metadata": {
        "colab": {
          "base_uri": "https://localhost:8080/"
        },
        "id": "6Vo-3yPtAmyv",
        "outputId": "db24fd3a-52a3-461c-ab11-f183e0c95278"
      },
      "execution_count": null,
      "outputs": [
        {
          "output_type": "stream",
          "name": "stdout",
          "text": [
            "1 \n",
            "2 2 \n",
            "3 3 3 \n",
            "4 4 4 4 \n",
            "5 5 5 5 5 \n"
          ]
        }
      ]
    },
    {
      "cell_type": "code",
      "source": [
        "for i in range(0,6):\n",
        "  for j in range(5,0,-1):\n",
        "    if j>i :\n",
        "      print(' ',end=' ')\n",
        "    else:\n",
        "      print(j,end=' ')\n",
        "  print()"
      ],
      "metadata": {
        "colab": {
          "base_uri": "https://localhost:8080/"
        },
        "id": "JphWDD08CkxP",
        "outputId": "869997bd-baa9-44dc-8619-6b3424bb4d61"
      },
      "execution_count": null,
      "outputs": [
        {
          "output_type": "stream",
          "name": "stdout",
          "text": [
            "          \n",
            "        1 \n",
            "      2 1 \n",
            "    3 2 1 \n",
            "  4 3 2 1 \n",
            "5 4 3 2 1 \n"
          ]
        }
      ]
    },
    {
      "cell_type": "code",
      "source": [
        "for i in range(0,5):\n",
        "  for j in range(1,5-i,1):\n",
        "    print(' ',end=' ')\n",
        "  for j in range(1,i+2):\n",
        "    print(j,end=' ')\n",
        "  print()"
      ],
      "metadata": {
        "colab": {
          "base_uri": "https://localhost:8080/"
        },
        "id": "Hm2B0dyPDd1J",
        "outputId": "17ad2de6-d33f-48cb-b375-b70fd6b86c70"
      },
      "execution_count": null,
      "outputs": [
        {
          "output_type": "stream",
          "name": "stdout",
          "text": [
            "        1 \n",
            "      1 2 \n",
            "    1 2 3 \n",
            "  1 2 3 4 \n",
            "1 2 3 4 5 \n"
          ]
        }
      ]
    },
    {
      "cell_type": "code",
      "source": [
        "for i in range(1, 6):\n",
        "    num = 1\n",
        "    for j in range(6, 0, -1):\n",
        "        if j > i:\n",
        "            print(\" \", end=' ')\n",
        "        else:\n",
        "            print(num, end=' ')\n",
        "            num += 1\n",
        "    print(\"\")\n"
      ],
      "metadata": {
        "colab": {
          "base_uri": "https://localhost:8080/"
        },
        "id": "M-TLXJX4LAbk",
        "outputId": "3883c786-318e-4dda-982c-d0a2fdb8b218"
      },
      "execution_count": null,
      "outputs": [
        {
          "output_type": "stream",
          "name": "stdout",
          "text": [
            "          1 \n",
            "        1 2 \n",
            "      1 2 3 \n",
            "    1 2 3 4 \n",
            "  1 2 3 4 5 \n"
          ]
        }
      ]
    },
    {
      "cell_type": "markdown",
      "source": [
        ""
      ],
      "metadata": {
        "id": "gar0luVe3V-K"
      }
    }
  ]
}